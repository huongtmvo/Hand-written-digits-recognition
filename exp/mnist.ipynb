{
  "cells": [
    {
      "cell_type": "markdown",
      "metadata": {
        "id": "yHlbTFkEXhZz"
      },
      "source": [
        "# Project: Build Deep Learning Model to recognize handwritten digits"
      ]
    },
    {
      "cell_type": "markdown",
      "metadata": {
        "id": "uwXj4rZbXmzg"
      },
      "source": [
        "## Objective \n",
        "- recognize handwritten digit by using deep learning models \n",
        "- understand CNN model and its implementation \n",
        "- get high accuracy and train model from end to end"
      ]
    },
    {
      "cell_type": "markdown",
      "metadata": {
        "id": "Qwy9Eub0X8VO"
      },
      "source": [
        "## Introduction \n",
        "\n",
        "- explain about dataset \n",
        "- framework to use: Keras \n",
        "- model to use \n",
        "- language"
      ]
    },
    {
      "cell_type": "markdown",
      "metadata": {
        "id": "eZJfVMwEYLlR"
      },
      "source": [
        "## Results\n",
        "\n",
        "- accuracy for each model \n",
        "- MLP solution\n",
        "   - input \n",
        "   - output \n",
        "   - train accurary \n",
        "   - test accuracy \n",
        "- CNN solution \n",
        "\n"
      ]
    },
    {
      "cell_type": "code",
      "execution_count": null,
      "metadata": {
        "id": "EVyL25VVYNJT"
      },
      "outputs": [],
      "source": []
    },
    {
      "cell_type": "markdown",
      "metadata": {
        "id": "hG242Cp_YjcQ"
      },
      "source": [
        "## Conclusion "
      ]
    },
    {
      "cell_type": "code",
      "execution_count": null,
      "metadata": {
        "id": "QqNqHAQiYl-u"
      },
      "outputs": [],
      "source": []
    },
    {
      "cell_type": "markdown",
      "metadata": {
        "id": "hspvilWPYnaZ"
      },
      "source": [
        "# Load Dataset"
      ]
    },
    {
      "cell_type": "code",
      "execution_count": null,
      "metadata": {
        "id": "kjfYQMd-Yox4"
      },
      "outputs": [],
      "source": [
        "from keras.datasets import mnist"
      ]
    },
    {
      "cell_type": "code",
      "execution_count": null,
      "metadata": {
        "colab": {
          "base_uri": "https://localhost:8080/"
        },
        "id": "8hzKlJdeYqlo",
        "outputId": "61a0f1f9-e9d0-4914-fe26-1a5414c7db41"
      },
      "outputs": [
        {
          "name": "stdout",
          "output_type": "stream",
          "text": [
            "Downloading data from https://storage.googleapis.com/tensorflow/tf-keras-datasets/mnist.npz\n",
            "11490434/11490434 [==============================] - 0s 0us/step\n"
          ]
        }
      ],
      "source": [
        "(train_data, train_label), (test_data, test_label) = mnist.load_data()"
      ]
    },
    {
      "cell_type": "code",
      "execution_count": null,
      "metadata": {
        "colab": {
          "base_uri": "https://localhost:8080/"
        },
        "id": "R3JA_stvYz-7",
        "outputId": "ae95233e-7e45-4a16-b227-fa9cf549e531"
      },
      "outputs": [
        {
          "data": {
            "text/plain": [
              "(60000, 28, 28)"
            ]
          },
          "execution_count": 3,
          "metadata": {},
          "output_type": "execute_result"
        }
      ],
      "source": [
        "train_data.shape "
      ]
    },
    {
      "cell_type": "code",
      "execution_count": null,
      "metadata": {
        "colab": {
          "base_uri": "https://localhost:8080/"
        },
        "id": "f0gQ2njXY1vo",
        "outputId": "b227c41d-665d-4d18-aa84-74d3b38b2d68"
      },
      "outputs": [
        {
          "data": {
            "text/plain": [
              "(60000,)"
            ]
          },
          "execution_count": 4,
          "metadata": {},
          "output_type": "execute_result"
        }
      ],
      "source": [
        "train_label.shape "
      ]
    },
    {
      "cell_type": "code",
      "execution_count": null,
      "metadata": {
        "colab": {
          "base_uri": "https://localhost:8080/"
        },
        "id": "NgLOUeAjY3SA",
        "outputId": "d9f7b244-6bb6-4723-f228-e32ed38586d9"
      },
      "outputs": [
        {
          "data": {
            "text/plain": [
              "(10000, 28, 28)"
            ]
          },
          "execution_count": 5,
          "metadata": {},
          "output_type": "execute_result"
        }
      ],
      "source": [
        "test_data.shape "
      ]
    },
    {
      "cell_type": "code",
      "execution_count": null,
      "metadata": {
        "colab": {
          "base_uri": "https://localhost:8080/"
        },
        "id": "cUtaZd0FY41M",
        "outputId": "9fe7f42a-25c0-45dd-c699-02abb2dcdb55"
      },
      "outputs": [
        {
          "data": {
            "text/plain": [
              "(10000,)"
            ]
          },
          "execution_count": 6,
          "metadata": {},
          "output_type": "execute_result"
        }
      ],
      "source": [
        "test_label.shape "
      ]
    },
    {
      "cell_type": "markdown",
      "metadata": {
        "id": "SZKcr5a1Y8MP"
      },
      "source": [
        "## Summary of dataset \n",
        "\n",
        "Training set \n",
        "- 60k images\n",
        "- shape 28x28\n",
        "- label is from 0 to 9\n",
        "\n",
        "\n",
        "Test set\n",
        "- 10k images \n",
        "- shape 28x28\n",
        "- label is from 0 to 9"
      ]
    },
    {
      "cell_type": "code",
      "execution_count": null,
      "metadata": {
        "id": "MsyiwDWwY_a_"
      },
      "outputs": [],
      "source": []
    },
    {
      "cell_type": "markdown",
      "metadata": {
        "id": "Kbx9HcdPZMes"
      },
      "source": [
        "## Visualization \n",
        "\n",
        "Print image out using matplotlib library "
      ]
    },
    {
      "cell_type": "code",
      "execution_count": null,
      "metadata": {
        "colab": {
          "base_uri": "https://localhost:8080/",
          "height": 34
        },
        "id": "qNmBRQjbZSzQ",
        "outputId": "3ac61b40-eb99-44e4-bcde-b613014bd749"
      },
      "outputs": [
        {
          "data": {
            "text/plain": [
              "<Figure size 432x288 with 0 Axes>"
            ]
          },
          "metadata": {},
          "output_type": "display_data"
        }
      ],
      "source": [
        "import matplotlib.pyplot as plt\n",
        "# print in gray scale \n",
        "plt.gray()"
      ]
    },
    {
      "cell_type": "code",
      "execution_count": null,
      "metadata": {
        "colab": {
          "base_uri": "https://localhost:8080/",
          "height": 282
        },
        "id": "ftxs2Os0ZUg-",
        "outputId": "8c379bfd-131e-4f3c-aa87-c497f31aac8f"
      },
      "outputs": [
        {
          "data": {
            "text/plain": [
              "<matplotlib.image.AxesImage at 0x7fa5c50f6150>"
            ]
          },
          "execution_count": 10,
          "metadata": {},
          "output_type": "execute_result"
        },
        {
          "data": {
            "image/png": "[encoded data removed]",
            "text/plain": [
              "<Figure size 432x288 with 1 Axes>"
            ]
          },
          "metadata": {
            "needs_background": "light"
          },
          "output_type": "display_data"
        }
      ],
      "source": [
        "plt.imshow(train_data[0])"
      ]
    },
    {
      "cell_type": "code",
      "execution_count": null,
      "metadata": {
        "colab": {
          "base_uri": "https://localhost:8080/"
        },
        "id": "lvFxnBoSZatu",
        "outputId": "8172ede0-f055-4491-876f-685fd09aa2d1"
      },
      "outputs": [
        {
          "data": {
            "text/plain": [
              "5"
            ]
          },
          "execution_count": 11,
          "metadata": {},
          "output_type": "execute_result"
        }
      ],
      "source": [
        "train_label[0]"
      ]
    },
    {
      "cell_type": "code",
      "execution_count": null,
      "metadata": {
        "id": "F-5_eCM1ZerL"
      },
      "outputs": [],
      "source": []
    },
    {
      "cell_type": "markdown",
      "metadata": {
        "id": "AK3xvD35ZiEv"
      },
      "source": [
        "# MLP Solution\n",
        "\n",
        "Define the model \n",
        "\n",
        "- input: column vector of 784 entries (expand from 28x28 image matrix)\n",
        "- 1st hidden layer with size of 512 \n",
        "- activation function = relu \n",
        "- output layer of size 10 with softmax to get probability \n"
      ]
    },
    {
      "cell_type": "code",
      "execution_count": null,
      "metadata": {
        "id": "yU9E670FaFTj"
      },
      "outputs": [],
      "source": [
        "from keras import models\n",
        "from keras import layers "
      ]
    },
    {
      "cell_type": "code",
      "execution_count": null,
      "metadata": {
        "id": "DkxNs5TRaH_w"
      },
      "outputs": [],
      "source": [
        "model_mlp = models.Sequential()"
      ]
    },
    {
      "cell_type": "code",
      "execution_count": null,
      "metadata": {
        "id": "2DIOjq0aaLzK"
      },
      "outputs": [],
      "source": [
        "model_mlp.add(layers.Dense(512, activation='relu', input_shape=(28*28,)))\n"
      ]
    },
    {
      "cell_type": "code",
      "execution_count": null,
      "metadata": {
        "id": "yksP1pS3aNkg"
      },
      "outputs": [],
      "source": [
        "model_mlp.add(layers.Dense(10, activation='softmax'))"
      ]
    },
    {
      "cell_type": "code",
      "execution_count": null,
      "metadata": {
        "colab": {
          "base_uri": "https://localhost:8080/"
        },
        "id": "TJ8e02K_aO4e",
        "outputId": "41bcb082-1628-4b87-87c4-6cc3eef24e8f"
      },
      "outputs": [
        {
          "name": "stdout",
          "output_type": "stream",
          "text": [
            "Model: \"sequential\"\n",
            "_________________________________________________________________\n",
            " Layer (type)                Output Shape              Param #   \n",
            "=================================================================\n",
            " dense (Dense)               (None, 512)               401920    \n",
            "                                                                 \n",
            " dense_1 (Dense)             (None, 10)                5130      \n",
            "                                                                 \n",
            "=================================================================\n",
            "Total params: 407,050\n",
            "Trainable params: 407,050\n",
            "Non-trainable params: 0\n",
            "_________________________________________________________________\n"
          ]
        }
      ],
      "source": [
        "model_mlp.summary()"
      ]
    },
    {
      "cell_type": "code",
      "execution_count": null,
      "metadata": {
        "id": "JkSnZ-uIaQMA"
      },
      "outputs": [],
      "source": [
        "# optimizer function \n",
        "\n",
        "model_mlp.compile(optimizer='rmsprop', loss='categorical_crossentropy', metrics=['accuracy'])"
      ]
    },
    {
      "cell_type": "markdown",
      "metadata": {
        "id": "pu2LcdGRaero"
      },
      "source": [
        "## Transform dataset"
      ]
    },
    {
      "cell_type": "code",
      "execution_count": null,
      "metadata": {
        "colab": {
          "base_uri": "https://localhost:8080/"
        },
        "id": "Ue42OShgaUsk",
        "outputId": "d411edba-2943-4f7c-8262-b38eb3975bad"
      },
      "outputs": [
        {
          "data": {
            "text/plain": [
              "(60000, 28, 28)"
            ]
          },
          "execution_count": 20,
          "metadata": {},
          "output_type": "execute_result"
        }
      ],
      "source": [
        "train_data.shape"
      ]
    },
    {
      "cell_type": "code",
      "execution_count": null,
      "metadata": {
        "id": "f9dK90P2al_i"
      },
      "outputs": [],
      "source": [
        "mlp_train_data = train_data.reshape(60000, 28*28)"
      ]
    },
    {
      "cell_type": "code",
      "execution_count": null,
      "metadata": {
        "colab": {
          "base_uri": "https://localhost:8080/"
        },
        "id": "9e67az8uats_",
        "outputId": "47ee23a0-5c5d-4be7-bb26-70bca90814dd"
      },
      "outputs": [
        {
          "data": {
            "text/plain": [
              "numpy.uint8"
            ]
          },
          "execution_count": 24,
          "metadata": {},
          "output_type": "execute_result"
        }
      ],
      "source": [
        "type(mlp_train_data[0][350])"
      ]
    },
    {
      "cell_type": "code",
      "execution_count": null,
      "metadata": {
        "colab": {
          "base_uri": "https://localhost:8080/"
        },
        "id": "V1k_zaxRa7M3",
        "outputId": "3618507e-3513-4daf-8a14-e38621df0018"
      },
      "outputs": [
        {
          "data": {
            "text/plain": [
              "0.27450982"
            ]
          },
          "execution_count": 27,
          "metadata": {},
          "output_type": "execute_result"
        }
      ],
      "source": [
        "mlp_train_data[0][350]"
      ]
    },
    {
      "cell_type": "code",
      "execution_count": null,
      "metadata": {
        "id": "4-47V6UWawio"
      },
      "outputs": [],
      "source": [
        "mlp_train_data = mlp_train_data.astype('float32') / 255"
      ]
    },
    {
      "cell_type": "code",
      "execution_count": null,
      "metadata": {
        "colab": {
          "base_uri": "https://localhost:8080/"
        },
        "id": "169Z4XVTa3NR",
        "outputId": "411a2cf6-177a-41b3-9fcb-3803e42f9218"
      },
      "outputs": [
        {
          "data": {
            "text/plain": [
              "0.27450982"
            ]
          },
          "execution_count": 26,
          "metadata": {},
          "output_type": "execute_result"
        }
      ],
      "source": [
        "mlp_train_data[0][350]"
      ]
    },
    {
      "cell_type": "code",
      "execution_count": null,
      "metadata": {
        "id": "sheP0DeKa6AI"
      },
      "outputs": [],
      "source": [
        "mlp_test_data = test_data.reshape(10000,28*28)\n",
        "mlp_test_data = mlp_test_data.astype('float32') / 255"
      ]
    },
    {
      "cell_type": "code",
      "execution_count": null,
      "metadata": {
        "id": "b0Dt1KOxbDuE"
      },
      "outputs": [],
      "source": []
    },
    {
      "cell_type": "markdown",
      "metadata": {
        "id": "S-6_s9TCbIwA"
      },
      "source": [
        "## Transform label"
      ]
    },
    {
      "cell_type": "code",
      "execution_count": null,
      "metadata": {
        "colab": {
          "base_uri": "https://localhost:8080/"
        },
        "id": "kg3PyHfKbN8d",
        "outputId": "14426b44-f3c8-4af5-bd49-8037f43f316a"
      },
      "outputs": [
        {
          "data": {
            "text/plain": [
              "5"
            ]
          },
          "execution_count": 30,
          "metadata": {},
          "output_type": "execute_result"
        }
      ],
      "source": [
        "train_label[0]"
      ]
    },
    {
      "cell_type": "code",
      "execution_count": null,
      "metadata": {
        "id": "K1ylTXQgbR_n"
      },
      "outputs": [],
      "source": [
        "from keras.utils import to_categorical"
      ]
    },
    {
      "cell_type": "code",
      "execution_count": null,
      "metadata": {
        "id": "GlTPCTkzbTEO"
      },
      "outputs": [],
      "source": [
        "\n",
        "mlp_train_label = to_categorical(train_label)"
      ]
    },
    {
      "cell_type": "code",
      "execution_count": null,
      "metadata": {
        "colab": {
          "base_uri": "https://localhost:8080/"
        },
        "id": "JNI2P2HLbXnc",
        "outputId": "614eb2e4-058c-4b26-c066-d02eef284670"
      },
      "outputs": [
        {
          "data": {
            "text/plain": [
              "array([0., 0., 0., 0., 0., 1., 0., 0., 0., 0.], dtype=float32)"
            ]
          },
          "execution_count": 33,
          "metadata": {},
          "output_type": "execute_result"
        }
      ],
      "source": [
        "mlp_train_label[0]"
      ]
    },
    {
      "cell_type": "code",
      "execution_count": null,
      "metadata": {
        "id": "0TevX1lsbZGI"
      },
      "outputs": [],
      "source": [
        "mlp_test_label = to_categorical(test_label)"
      ]
    },
    {
      "cell_type": "code",
      "execution_count": null,
      "metadata": {
        "id": "E_syPqqybdfn"
      },
      "outputs": [],
      "source": []
    },
    {
      "cell_type": "markdown",
      "metadata": {
        "id": "Y0KjbrbCbfOu"
      },
      "source": [
        "# Train Model "
      ]
    },
    {
      "cell_type": "code",
      "execution_count": null,
      "metadata": {
        "colab": {
          "base_uri": "https://localhost:8080/"
        },
        "id": "2lX98ULbbgHZ",
        "outputId": "0bc905a2-0daa-4a10-f8a8-ec1051175c21"
      },
      "outputs": [
        {
          "name": "stdout",
          "output_type": "stream",
          "text": [
            "Epoch 1/5\n",
            "500/500 [==============================] - 5s 10ms/step - loss: 0.2549 - accuracy: 0.9257\n",
            "Epoch 2/5\n",
            "500/500 [==============================] - 5s 10ms/step - loss: 0.1017 - accuracy: 0.9699\n",
            "Epoch 3/5\n",
            "500/500 [==============================] - 6s 12ms/step - loss: 0.0672 - accuracy: 0.9794\n",
            "Epoch 4/5\n",
            "500/500 [==============================] - 6s 12ms/step - loss: 0.0484 - accuracy: 0.9850\n",
            "Epoch 5/5\n",
            "500/500 [==============================] - 6s 12ms/step - loss: 0.0368 - accuracy: 0.9890\n"
          ]
        },
        {
          "data": {
            "text/plain": [
              "<keras.callbacks.History at 0x7fa5c2aa37d0>"
            ]
          },
          "execution_count": 36,
          "metadata": {},
          "output_type": "execute_result"
        }
      ],
      "source": [
        "model_mlp.fit(mlp_train_data, mlp_train_label, epochs = 5, batch_size = 120)\n"
      ]
    },
    {
      "cell_type": "markdown",
      "metadata": {
        "id": "ZpRhC1RjboaM"
      },
      "source": [
        "Training accuracy of $~98.9\\%$"
      ]
    },
    {
      "cell_type": "code",
      "execution_count": null,
      "metadata": {
        "colab": {
          "base_uri": "https://localhost:8080/"
        },
        "id": "H4xA03YQbglw",
        "outputId": "2c4ed582-e483-4d81-c56d-63178e1379e8"
      },
      "outputs": [
        {
          "name": "stdout",
          "output_type": "stream",
          "text": [
            "313/313 [==============================] - 2s 5ms/step - loss: 0.0628 - accuracy: 0.9815\n"
          ]
        }
      ],
      "source": [
        "mlp_test_loss, mlp_test_acc = model_mlp.evaluate(mlp_test_data, mlp_test_label)"
      ]
    },
    {
      "cell_type": "code",
      "execution_count": null,
      "metadata": {
        "colab": {
          "base_uri": "https://localhost:8080/"
        },
        "id": "MZ5wQXz8b4iP",
        "outputId": "c7ae01df-4680-4842-9dba-82c87196b8a5"
      },
      "outputs": [
        {
          "name": "stdout",
          "output_type": "stream",
          "text": [
            "test accuracy: 98.15000295639038\n"
          ]
        }
      ],
      "source": [
        "print('test accuracy:', (mlp_test_acc*100))"
      ]
    },
    {
      "cell_type": "markdown",
      "metadata": {
        "id": "hFn9fXqUb9y-"
      },
      "source": [
        "# CNN Solution"
      ]
    },
    {
      "cell_type": "code",
      "execution_count": null,
      "metadata": {
        "id": "dOJ7mWEQb_yD"
      },
      "outputs": [],
      "source": [
        "from keras import models\n",
        "from keras import layers"
      ]
    },
    {
      "cell_type": "code",
      "execution_count": null,
      "metadata": {
        "id": "6sgBH2RwcA8Z"
      },
      "outputs": [],
      "source": [
        "model_cnn = models.Sequential()"
      ]
    },
    {
      "cell_type": "markdown",
      "metadata": {
        "id": "QKlxx3W0cQ4U"
      },
      "source": [
        "## Archtecture \n",
        "\n",
        "- 2 dimensional Convolution Layer\n",
        "- Number of filters/kernels = 32\n",
        "- Filter/Kernel Size = 3x3\n",
        "- Activation Function = relu (for non-linearity detection)\n",
        "- Input Shape = 28x28 matrix with 1 channel (as image is gray scale, we have only 1 channel)\n",
        "\n",
        "\n",
        "First Conv2D Details:\n",
        "\n",
        "- Downsample the output from previous layer\n",
        "- We will take the max value for a every 2x2 window ... moved over the input\n",
        "\n",
        "\n",
        "MaxPool2D Details:\n",
        "- 2 dimensional Convolution Layer\n",
        "- Number of filters/kernels = 64\n",
        "- Filter/Kernel Size = 3x3\n",
        "- Activation Function = relu (for non-linearity detection)\n",
        "\n",
        "2nd Conv2D details:\n",
        "- Downsample the output from previous layer\n",
        "- We will take the max value for a every 2x2 window ... moved over the input"
      ]
    },
    {
      "cell_type": "code",
      "execution_count": null,
      "metadata": {
        "id": "UvZ6hkcLcC3H"
      },
      "outputs": [],
      "source": [
        "model_cnn.add(layers.Conv2D(32, (3,3), activation='relu', input_shape=(28,28,1)))\n",
        "model_cnn.add(layers.MaxPooling2D(2,2))\n",
        "model_cnn.add(layers.Conv2D(64, (3,3), activation = 'relu'))\n",
        "model_cnn.add(layers.MaxPooling2D(2,2))\n",
        "model_cnn.add(layers.Conv2D(64, (3,3), activation='relu'))\n",
        "model_cnn.add(layers.Flatten())\n",
        "model_cnn.add(layers.Dense(64, activation = 'relu'))\n",
        "model_cnn.add(layers.Dense(10, activation = 'softmax'))"
      ]
    },
    {
      "cell_type": "code",
      "execution_count": null,
      "metadata": {
        "colab": {
          "base_uri": "https://localhost:8080/"
        },
        "id": "A19UWEEEcFBv",
        "outputId": "a6014cc1-bb04-4ca6-9f4a-08b300a36a22"
      },
      "outputs": [
        {
          "name": "stdout",
          "output_type": "stream",
          "text": [
            "Model: \"sequential_1\"\n",
            "_________________________________________________________________\n",
            " Layer (type)                Output Shape              Param #   \n",
            "=================================================================\n",
            " conv2d (Conv2D)             (None, 26, 26, 32)        320       \n",
            "                                                                 \n",
            " conv2d_1 (Conv2D)           (None, 24, 24, 32)        9248      \n",
            "                                                                 \n",
            " max_pooling2d (MaxPooling2D  (None, 12, 12, 32)       0         \n",
            " )                                                               \n",
            "                                                                 \n",
            " conv2d_2 (Conv2D)           (None, 10, 10, 64)        18496     \n",
            "                                                                 \n",
            " max_pooling2d_1 (MaxPooling  (None, 5, 5, 64)         0         \n",
            " 2D)                                                             \n",
            "                                                                 \n",
            " conv2d_3 (Conv2D)           (None, 3, 3, 64)          36928     \n",
            "                                                                 \n",
            " flatten (Flatten)           (None, 576)               0         \n",
            "                                                                 \n",
            " dense_2 (Dense)             (None, 64)                36928     \n",
            "                                                                 \n",
            " dense_3 (Dense)             (None, 10)                650       \n",
            "                                                                 \n",
            "=================================================================\n",
            "Total params: 102,570\n",
            "Trainable params: 102,570\n",
            "Non-trainable params: 0\n",
            "_________________________________________________________________\n"
          ]
        }
      ],
      "source": [
        "model_cnn.summary()"
      ]
    },
    {
      "cell_type": "code",
      "execution_count": null,
      "metadata": {
        "colab": {
          "base_uri": "https://localhost:8080/"
        },
        "id": "0Yp5Epe1dBNC",
        "outputId": "dc884cd2-4476-49bf-a72d-b46e9b3dee9d"
      },
      "outputs": [
        {
          "data": {
            "text/plain": [
              "(60000, 28, 28)"
            ]
          },
          "execution_count": 47,
          "metadata": {},
          "output_type": "execute_result"
        }
      ],
      "source": [
        "train_data.shape "
      ]
    },
    {
      "cell_type": "code",
      "execution_count": null,
      "metadata": {
        "id": "aWMh8R7JcPnk"
      },
      "outputs": [],
      "source": [
        "cnn_train_data = train_data.reshape(60000, 28, 28, 1)\n",
        "cnn_test_data = test_data.reshape(10000, 28, 28, 1)"
      ]
    },
    {
      "cell_type": "code",
      "execution_count": null,
      "metadata": {
        "colab": {
          "base_uri": "https://localhost:8080/"
        },
        "id": "oVFR_8t4c9-2",
        "outputId": "ee115dd5-527a-4d7b-c060-19cd1765d900"
      },
      "outputs": [
        {
          "data": {
            "text/plain": [
              "(60000, 28, 28, 1)"
            ]
          },
          "execution_count": 49,
          "metadata": {},
          "output_type": "execute_result"
        }
      ],
      "source": [
        "cnn_train_data.shape"
      ]
    },
    {
      "cell_type": "code",
      "execution_count": null,
      "metadata": {
        "id": "Vvi6niy5dACO"
      },
      "outputs": [],
      "source": [
        "cnn_train_data = cnn_train_data.astype('float32') / 255\n",
        "cnn_test_data = cnn_test_data.astype('float32') / 255"
      ]
    },
    {
      "cell_type": "code",
      "execution_count": null,
      "metadata": {
        "id": "2vvm9FCndKC5"
      },
      "outputs": [],
      "source": [
        "cnn_train_label = to_categorical(train_label)\n",
        "cnn_test_label = to_categorical(test_label)"
      ]
    },
    {
      "cell_type": "code",
      "execution_count": null,
      "metadata": {
        "id": "BjrUCcPSdUgA"
      },
      "outputs": [],
      "source": [
        "model_cnn.compile(optimizer='rmsprop', loss='categorical_crossentropy', metrics=['accuracy'])\n"
      ]
    },
    {
      "cell_type": "code",
      "execution_count": null,
      "metadata": {
        "colab": {
          "base_uri": "https://localhost:8080/"
        },
        "id": "EJjUlNN8dWOD",
        "outputId": "22e95002-669a-4108-8a9a-be3e21b4252e"
      },
      "outputs": [
        {
          "name": "stdout",
          "output_type": "stream",
          "text": [
            "Epoch 1/5\n",
            "1000/1000 [==============================] - 142s 141ms/step - loss: 0.1521 - accuracy: 0.9529\n",
            "Epoch 2/5\n",
            "1000/1000 [==============================] - 122s 122ms/step - loss: 0.0417 - accuracy: 0.9872\n",
            "Epoch 3/5\n",
            "1000/1000 [==============================] - 125s 125ms/step - loss: 0.0293 - accuracy: 0.9906\n",
            "Epoch 4/5\n",
            "1000/1000 [==============================] - 126s 126ms/step - loss: 0.0216 - accuracy: 0.9932\n",
            "Epoch 5/5\n",
            "1000/1000 [==============================] - 134s 134ms/step - loss: 0.0183 - accuracy: 0.9944\n"
          ]
        },
        {
          "data": {
            "text/plain": [
              "<keras.callbacks.History at 0x7fa5be10b290>"
            ]
          },
          "execution_count": 54,
          "metadata": {},
          "output_type": "execute_result"
        }
      ],
      "source": [
        "model_cnn.fit(cnn_train_data, cnn_train_label, epochs = 5, batch_size = 60)"
      ]
    },
    {
      "cell_type": "markdown",
      "metadata": {
        "id": "U6d_HtQEdeAS"
      },
      "source": [
        "we got a training accuracy of $99.4\\%$"
      ]
    },
    {
      "cell_type": "code",
      "execution_count": null,
      "metadata": {
        "colab": {
          "base_uri": "https://localhost:8080/"
        },
        "id": "ST_u_fujdYNB",
        "outputId": "7cf5a503-c373-4908-965c-fa3ccf268fce"
      },
      "outputs": [
        {
          "name": "stdout",
          "output_type": "stream",
          "text": [
            "313/313 [==============================] - 6s 19ms/step - loss: 0.0276 - accuracy: 0.9915\n"
          ]
        }
      ],
      "source": [
        "cnn_test_loss, cnn_test_acc = model_cnn.evaluate(cnn_test_data, cnn_test_label)"
      ]
    },
    {
      "cell_type": "markdown",
      "metadata": {
        "id": "rq6ARJIcgcRo"
      },
      "source": [
        "we got a test accuracy of  $99.15\\%$"
      ]
    },
    {
      "cell_type": "markdown",
      "metadata": {
        "id": "O99nFutqdv3o"
      },
      "source": [
        "# Experiment on real data "
      ]
    },
    {
      "cell_type": "code",
      "execution_count": null,
      "metadata": {
        "id": "ez5Gw4WYgiXl"
      },
      "outputs": [],
      "source": [
        "from PIL import Image\n",
        "import numpy as np "
      ]
    },
    {
      "cell_type": "code",
      "execution_count": null,
      "metadata": {
        "id": "HZSRspjQdyLP"
      },
      "outputs": [],
      "source": [
        "image = Image.open('2.jpg')"
      ]
    },
    {
      "cell_type": "code",
      "execution_count": null,
      "metadata": {
        "colab": {
          "base_uri": "https://localhost:8080/",
          "height": 445
        },
        "id": "wSEkjlAHe0h-",
        "outputId": "c4bd40c1-64b8-49cb-999c-55fa97ff3e69"
      },
      "outputs": [
        {
          "data": {
            "image/png": "[encoded data removed]",
            "text/plain": [
              "<PIL.JpegImagePlugin.JpegImageFile image mode=RGB size=398x428 at 0x7FA5B4818150>"
            ]
          },
          "execution_count": 108,
          "metadata": {},
          "output_type": "execute_result"
        }
      ],
      "source": [
        "image"
      ]
    },
    {
      "cell_type": "code",
      "execution_count": null,
      "metadata": {
        "colab": {
          "base_uri": "https://localhost:8080/"
        },
        "id": "9sUHR7rSj-53",
        "outputId": "1ae0e245-130f-4465-e5a3-6e0696025d6a"
      },
      "outputs": [
        {
          "data": {
            "text/plain": [
              "(428, 398, 3)"
            ]
          },
          "execution_count": 112,
          "metadata": {},
          "output_type": "execute_result"
        }
      ],
      "source": [
        "image = np.array(image)\n",
        "image.shape "
      ]
    },
    {
      "cell_type": "code",
      "execution_count": null,
      "metadata": {
        "colab": {
          "base_uri": "https://localhost:8080/"
        },
        "id": "ob03ou2RkEdn",
        "outputId": "119ba15e-29dd-48a5-9379-14f3eb3561c3"
      },
      "outputs": [
        {
          "name": "stdout",
          "output_type": "stream",
          "text": [
            "After trimming: (320, 320, 3)\n"
          ]
        }
      ],
      "source": [
        "# trimming image \n",
        "im_trim = image[30:350, 30:350]\n",
        "print(\"After trimming:\",im_trim.shape)\n",
        "\n",
        "Image.fromarray(im_trim).save('2_trim.jpeg')"
      ]
    },
    {
      "cell_type": "code",
      "execution_count": null,
      "metadata": {
        "id": "U2oB-ilsfJD2"
      },
      "outputs": [],
      "source": [
        "\n",
        "im = np.array(Image.fromarray(im_trim).resize((28,28)).convert('L'))"
      ]
    },
    {
      "cell_type": "code",
      "execution_count": null,
      "metadata": {
        "colab": {
          "base_uri": "https://localhost:8080/"
        },
        "id": "SpgfOhsgh8nW",
        "outputId": "a084c8e6-07e4-4cfa-c6c9-7d3aa3f55669"
      },
      "outputs": [
        {
          "data": {
            "text/plain": [
              "(28, 28)"
            ]
          },
          "execution_count": 117,
          "metadata": {},
          "output_type": "execute_result"
        }
      ],
      "source": [
        "im.shape"
      ]
    },
    {
      "cell_type": "code",
      "execution_count": null,
      "metadata": {
        "colab": {
          "base_uri": "https://localhost:8080/",
          "height": 282
        },
        "id": "ufCdK0Tlhr8x",
        "outputId": "99042b5b-1cb6-4d3a-ac06-ead090b2e3fd"
      },
      "outputs": [
        {
          "data": {
            "text/plain": [
              "<matplotlib.image.AxesImage at 0x7fa5b4879150>"
            ]
          },
          "execution_count": 118,
          "metadata": {},
          "output_type": "execute_result"
        },
        {
          "data": {
            "image/png": "[encoded data removed]",
            "text/plain": [
              "<Figure size 432x288 with 1 Axes>"
            ]
          },
          "metadata": {
            "needs_background": "light"
          },
          "output_type": "display_data"
        }
      ],
      "source": [
        "plt.imshow(im)"
      ]
    },
    {
      "cell_type": "code",
      "execution_count": null,
      "metadata": {
        "id": "_3gxTz4Yigtg"
      },
      "outputs": [],
      "source": [
        "im = im.astype('float32') / 255"
      ]
    },
    {
      "cell_type": "code",
      "execution_count": null,
      "metadata": {
        "colab": {
          "base_uri": "https://localhost:8080/"
        },
        "id": "f8xAAt13jPAH",
        "outputId": "dc39b54d-3220-431a-96be-576e9849a537"
      },
      "outputs": [
        {
          "data": {
            "text/plain": [
              "(1, 28, 28, 1)"
            ]
          },
          "execution_count": 120,
          "metadata": {},
          "output_type": "execute_result"
        }
      ],
      "source": [
        "im[np.newaxis, ..., np.newaxis].shape "
      ]
    },
    {
      "cell_type": "code",
      "execution_count": null,
      "metadata": {
        "colab": {
          "base_uri": "https://localhost:8080/"
        },
        "id": "ulE1k00UfON6",
        "outputId": "095c9aff-7809-463b-f5f6-de09fdf91aac"
      },
      "outputs": [
        {
          "name": "stdout",
          "output_type": "stream",
          "text": [
            "1/1 [==============================] - 0s 25ms/step\n"
          ]
        }
      ],
      "source": [
        "out = model_cnn.predict(im[np.newaxis, ..., np.newaxis])"
      ]
    },
    {
      "cell_type": "code",
      "execution_count": null,
      "metadata": {
        "colab": {
          "base_uri": "https://localhost:8080/"
        },
        "id": "QuiLjwA_fWO_",
        "outputId": "b7aed907-e9a7-4d3e-f1c3-9398a0aab14b"
      },
      "outputs": [
        {
          "data": {
            "text/plain": [
              "array([[0.22399606, 0.27709663, 0.08779936, 0.1060783 , 0.06707843,\n",
              "        0.12856126, 0.04558018, 0.00611313, 0.02860948, 0.02908713]],\n",
              "      dtype=float32)"
            ]
          },
          "execution_count": 122,
          "metadata": {},
          "output_type": "execute_result"
        }
      ],
      "source": [
        "out "
      ]
    },
    {
      "cell_type": "code",
      "execution_count": null,
      "metadata": {
        "colab": {
          "base_uri": "https://localhost:8080/"
        },
        "id": "QAAFXSNVffte",
        "outputId": "a831b087-0e3f-495e-e95f-3250d38cc189"
      },
      "outputs": [
        {
          "data": {
            "text/plain": [
              "1"
            ]
          },
          "execution_count": 123,
          "metadata": {},
          "output_type": "execute_result"
        }
      ],
      "source": [
        "np.argmax(out)"
      ]
    },
    {
      "cell_type": "code",
      "execution_count": null,
      "metadata": {
        "id": "PRRQVn-Mi3ci"
      },
      "outputs": [],
      "source": []
    }
  ],
  "metadata": {
    "colab": {
      "provenance": []
    },
    "kernelspec": {
      "display_name": "Python 3",
      "name": "python3"
    },
    "language_info": {
      "name": "python"
    }
  },
  "nbformat": 4,
  "nbformat_minor": 0
}
